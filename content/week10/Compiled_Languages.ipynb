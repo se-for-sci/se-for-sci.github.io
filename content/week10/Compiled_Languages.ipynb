{
 "cells": [
  {
   "cell_type": "markdown",
   "id": "0",
   "metadata": {},
   "source": [
    "# Using Compiled Languages \n",
    "\n",
    "## First steps with python using numba"
   ]
  },
  {
   "cell_type": "code",
   "execution_count": null,
   "id": "1",
   "metadata": {},
   "outputs": [],
   "source": [
    "import numpy as np\n",
    "import numba"
   ]
  },
  {
   "cell_type": "markdown",
   "id": "2",
   "metadata": {},
   "source": [
    "Python is a nice scripting object-oriented language but it can run into performance issues. We will see a few examples below. To get better performance, one uses compiled languages, such a C, C++ and Fortran. We will also use the numba python library that allows one to perform \"just in time\" compilations. We will however explore in more details in this lecture how to compile directly C and Fortran codes. We will see in a next lecture how one can interface these compiled functions directly to python.\n",
    "\n",
    "Let's start first with a simple example to see how bad python performs when not used properly. We define a simple function that uses a python loop, which is generally a very bad idea with python."
   ]
  },
  {
   "cell_type": "code",
   "execution_count": null,
   "id": "3",
   "metadata": {},
   "outputs": [],
   "source": [
    "def f_simple(X):\n",
    "    Y = np.empty_like(X)\n",
    "    for i in range(len(X)):\n",
    "        x = X[i]\n",
    "        Y[i] = x + x**2 + x**3 + x**4 + x**5 + x**6 + x**7 + x**8\n",
    "    return Y"
   ]
  },
  {
   "cell_type": "markdown",
   "id": "4",
   "metadata": {},
   "source": [
    "We create a random numpy array of moderate size."
   ]
  },
  {
   "cell_type": "code",
   "execution_count": null,
   "id": "5",
   "metadata": {},
   "outputs": [],
   "source": [
    "x = np.random.normal(size=1_000_000)"
   ]
  },
  {
   "cell_type": "markdown",
   "id": "6",
   "metadata": {},
   "source": [
    "We finally call the function and time it using the ``%%timeit`` python function."
   ]
  },
  {
   "cell_type": "code",
   "execution_count": null,
   "id": "7",
   "metadata": {},
   "outputs": [],
   "source": [
    "%%timeit\n",
    "f_simple(x)"
   ]
  },
  {
   "cell_type": "markdown",
   "id": "8",
   "metadata": {},
   "source": [
    "We see that it called the timing routine 7 times, each timing using only 1 call to the function. We can change this to see how robust the time measurements are. The standard deviation seems indeed a bit large."
   ]
  },
  {
   "cell_type": "code",
   "execution_count": null,
   "id": "9",
   "metadata": {},
   "outputs": [],
   "source": [
    "%%timeit -r 4 -n 4\n",
    "f_simple(x)"
   ]
  },
  {
   "cell_type": "markdown",
   "id": "10",
   "metadata": {},
   "source": [
    "We see that the measurement seems now more consistent with a smaller standard deviation. \n",
    "\n",
    "Let's now try to use more proper python programming, avoiding using explicit loops, but direct numpy array notations instead."
   ]
  },
  {
   "cell_type": "code",
   "execution_count": null,
   "id": "11",
   "metadata": {},
   "outputs": [],
   "source": [
    "def f_numpy(X):\n",
    "    return X + X**2 + X**3 + X**4 + X**5 + X**6 + X**7 + X**8"
   ]
  },
  {
   "cell_type": "code",
   "execution_count": null,
   "id": "12",
   "metadata": {},
   "outputs": [],
   "source": [
    "%%timeit -r 4 -n 4\n",
    "f_numpy(x)"
   ]
  },
  {
   "cell_type": "markdown",
   "id": "13",
   "metadata": {},
   "source": [
    "Wow! It is indeed much faster. Too fast even... Let's use a bigger array. For this, on your own jupyter notebook, please uncomment the second line."
   ]
  },
  {
   "cell_type": "code",
   "execution_count": null,
   "id": "14",
   "metadata": {},
   "outputs": [],
   "source": [
    "x = np.random.normal(size=1_000_000)\n",
    "# x = np.random.normal(size=10_000_000)"
   ]
  },
  {
   "cell_type": "code",
   "execution_count": null,
   "id": "15",
   "metadata": {},
   "outputs": [],
   "source": [
    "%%timeit -r 4 -n 4\n",
    "f_numpy(x)"
   ]
  },
  {
   "cell_type": "markdown",
   "id": "16",
   "metadata": {},
   "source": [
    "These multiple powers are probably slow to evaluate. Let's use a nice trick to avoid having to call these expensive operations."
   ]
  },
  {
   "cell_type": "code",
   "execution_count": null,
   "id": "17",
   "metadata": {},
   "outputs": [],
   "source": [
    "def f_numpy_2(X):\n",
    "    return X * (1 + X * (1 + X * (1 + X * (1 + X * (1 + X * (1 + X * (1 + X)))))))"
   ]
  },
  {
   "cell_type": "code",
   "execution_count": null,
   "id": "18",
   "metadata": {},
   "outputs": [],
   "source": [
    "%%timeit -r 4 -n 4\n",
    "f_numpy_2(x)"
   ]
  },
  {
   "cell_type": "markdown",
   "id": "19",
   "metadata": {},
   "source": [
    "Wow! Another dramatic improvement!\n",
    "\n",
    "We kind of reached the maximum we can do using python alone. We will now try to use a nice python package called ``numba`` that allows one to perform _just in time compilation_. What ``numba`` does is to first convert the python function into a C code and then to compile this C code on the fly. The performance of the resulting function is usually much higher. Since the function is now compiled, you don't need to worry about using loops directly anymore. In fact, to allow ``numba`` to translate the python instructions into C instructions, it is recommended to use explicit loops. \n",
    "\n",
    "Let see how we can optimize our function using ``numba``."
   ]
  },
  {
   "cell_type": "code",
   "execution_count": null,
   "id": "20",
   "metadata": {},
   "outputs": [],
   "source": [
    "@numba.jit(nopython=True)\n",
    "def f_numba(X):\n",
    "    Y = np.empty_like(X)\n",
    "    for i in range(len(X)):\n",
    "        x = X[i]\n",
    "        Y[i] = x + x**2 + x**3 + x**4 + x**5 + x**6 + x**7 + x**8\n",
    "    #        Y[i] = x*(1 + x*(1 + x*(1 + x*(1 + x*(1 + x*(1 + x*(1 + x)))))))\n",
    "    return Y"
   ]
  },
  {
   "cell_type": "markdown",
   "id": "21",
   "metadata": {},
   "source": [
    "Note that we have used the _decorator_ ``@numba.jit`` that tells ``numba`` to translate the function in C and compile it. ``numba`` tries to translate everything in C. If it cannot, it will keep the python code as is. Using the option ``nopython=True`` forces ``numba`` to translate in C. If ``numba`` fails to do it, an error will follow.\n",
    "\n",
    "Let's now time the resulting _compiled_ function."
   ]
  },
  {
   "cell_type": "code",
   "execution_count": null,
   "id": "22",
   "metadata": {},
   "outputs": [],
   "source": [
    "%%timeit -r 4 -n 4\n",
    "f_numba(x)"
   ]
  },
  {
   "cell_type": "markdown",
   "id": "23",
   "metadata": {},
   "source": [
    "This is now really fast! This is the main advantage of using a compiled language. The standard deviation is quite large when compared to the mean. This is because the timer is also counting the extra time ``numba`` needs to compile the function. To avoid this, we can use an even bigger array (again please uncomment the second line in the next cell). Note that we could also have used the ``cache=True`` option of ``numba`` but this is beyond the scope of this lecture. "
   ]
  },
  {
   "cell_type": "code",
   "execution_count": null,
   "id": "24",
   "metadata": {},
   "outputs": [],
   "source": [
    "x = np.random.normal(size=1_000_000)\n",
    "# x = np.random.normal(size=100_000_000)"
   ]
  },
  {
   "cell_type": "code",
   "execution_count": null,
   "id": "25",
   "metadata": {},
   "outputs": [],
   "source": [
    "%%timeit -r 4 -n 4\n",
    "f_numba(x)"
   ]
  },
  {
   "cell_type": "markdown",
   "id": "26",
   "metadata": {},
   "source": [
    "Using a compiler also allows us to use parallel computing. We will see in future lectures how to program in parallel. For the time being, we just trust ``numba`` to do it for us. To parallelize a ``numba`` function, just add the ``parallel=True`` option and replace the ``range`` function defining the loop by the parallel function ``numba.prange`` which defines the method to divide up the loop into parallel tasks."
   ]
  },
  {
   "cell_type": "code",
   "execution_count": null,
   "id": "27",
   "metadata": {},
   "outputs": [],
   "source": [
    "@numba.jit(nopython=True, parallel=True)\n",
    "def f_numba_para(X):\n",
    "    Y = np.empty_like(X)\n",
    "    for i in numba.prange(len(X)):\n",
    "        x = X[i]\n",
    "        Y[i] = x + x**2 + x**3 + x**4 + x**5 + x**6 + x**7 + x**8\n",
    "    return Y"
   ]
  },
  {
   "cell_type": "code",
   "execution_count": null,
   "id": "28",
   "metadata": {},
   "outputs": [],
   "source": [
    "%%timeit -r 4 -n 40\n",
    "f_numba_para(x)"
   ]
  },
  {
   "cell_type": "markdown",
   "id": "29",
   "metadata": {},
   "source": [
    "This ends our journey towards better and better performance using python. We started with an explicit loop within a pure python function and the pretty awful timing of roughly 200s. We ended with a compiled parallel C code generated by ``numba`` with an amazing 10000x (yes 10 thousands!) speedup with roughly 20ms of execution time.  "
   ]
  },
  {
   "cell_type": "markdown",
   "id": "30",
   "metadata": {},
   "source": [
    "## Linux and the Terminal window\n",
    "\n",
    "To understand better what ``numba`` is doing under the hood, we now switch to using the Terminal window. We will edit our C or Fortran codes using an editor (could be ``vim`` or ``emacs``). We will then compile our C or Fortran code using a compiler. Before we get there, let's first get some practice in the Terminal window.\n",
    "\n",
    "In your jupyter notebook Home page, hit the **New** button, this time choosing the **Terminal** option.\n",
    "You should see a prompt like ``$`` and a cursor. Just type:\n",
    "``$ ls``. You should see the content of the course directory in the Terminal window.\n",
    "\n",
    "In this jupyter notebook, you can execute all the same command line instructions using a ``!`` before."
   ]
  },
  {
   "cell_type": "code",
   "execution_count": null,
   "id": "31",
   "metadata": {},
   "outputs": [],
   "source": [
    "!ls"
   ]
  },
  {
   "cell_type": "markdown",
   "id": "32",
   "metadata": {},
   "source": [
    "Here is a list of very useful Linux commands that you have to know by heart.\n",
    "\n",
    "| Command | Examples | Description |\n",
    "| :----------- | :----------- | :----------- |\n",
    "| ``ls`` | ``ls``<br> ``ls -als`` | List files in current directory <br> List in long format including hidden files and file sizes|\n",
    "| ``cd`` | ``cd ..`` <br> ``cd week09`` <br> ``cd ~bob/se-for-sci/content``| Change to parent directory <br> Change to directory ``week09`` <br> Change to target directory inside Bob's SE course directory|\n",
    "| ``mkdir`` | ``mkdir test``| Creating a new directory called ``test`` |\n",
    "| ``rmdir`` | ``rmdir test`` | Removing the directory called ``test`` |\n",
    "| ``cp`` | ``cp file1.txt file2.txt`` <br> ``cp ~bob/file1.txt .`` <br> ``cp ~bob/* .`` <br> ``cp -r ~bob/se-for-sci .`` | Copy ``file1.txt`` into a new file called ``file2.txt`` <br> Copy the file called ``file1.txt`` in Bob's home directory into a new file locally keeping the same name <br> Copy all the files in Bob's home directory locally giving them the same name <br> Copy recursively the entire content of Bob's SE course directory locally keeping the same names | \n",
    "| ``rm`` | ``rm file1.txt`` <br> ``rm -rf *`` | Remove only the file called ``file1.txt`` <br> Remove recursively all files and directories without asking permission (very dangerous) |\n",
    "| ``mv`` | ``mv ~bob/file1.txt file2.txt`` | Move one file into another location and with a new name |\n",
    "| ``more`` | ``more file1.txt`` | Look at the file content one page at a time |\n",
    "| ``man`` | ``man more`` | Look at the manual for a given Linux command |\n",
    "| ``grep`` | ``grep Hello file1.txt`` | Search for string ``Hello`` inside the file ``file1.txt`` |"
   ]
  },
  {
   "cell_type": "markdown",
   "id": "33",
   "metadata": {},
   "source": [
    "Try now to play with these different commands in the Terminal window. In the remainder of the lecture, we will have to use the Terminal window again so get used to it!"
   ]
  },
  {
   "cell_type": "markdown",
   "id": "34",
   "metadata": {},
   "source": [
    "## Compiling a C code"
   ]
  },
  {
   "cell_type": "markdown",
   "id": "35",
   "metadata": {},
   "source": [
    "Now let's move to the core of the lecture, namely learning how to compile actual code. We will start simple with the famous ``Hello world`` example. The cell below will write a C file called ``hello.c``. "
   ]
  },
  {
   "cell_type": "code",
   "execution_count": null,
   "id": "36",
   "metadata": {},
   "outputs": [],
   "source": [
    "%%writefile hello.c\n",
    "#include <stdio.h>\n",
    "int main() {\n",
    "   // This is a comment \n",
    "   printf(\"Hello, World!\\n\");\n",
    "   return 0;\n",
    "}"
   ]
  },
  {
   "cell_type": "markdown",
   "id": "37",
   "metadata": {},
   "source": [
    "You can check in parallel in the Terminal window that this file was properly created using the ``$ more hello.c`` command.\n",
    "\n",
    "The first line is an **include** statement. It tells the compiler to include at the beginning of the file another file called ``stdio.h`` which is part of the C compiler library of files. As the name indicates, this files contains the standard Input/Output C functions. The function we will use here is ``printf`` to output to screen the character string ``Hello world!``.  Comments are defining in CC using the ``//`` directive. \n",
    "\n",
    "In this lecture, we will not teach the basics of the C language. We only focus on the compilers. If you need more details on the C syntax, please use the web as a never ending source of information.  \n",
    "\n",
    "To compile the code, we now need to use a compiler. In most Linux system, you always find by default the GNU compiler called ``gcc``. More resources on the GNU C compiler can be found [here](https://gcc.gnu.org). The command to compile our simple ``hello.c`` code is as follows:"
   ]
  },
  {
   "cell_type": "code",
   "execution_count": null,
   "id": "38",
   "metadata": {},
   "outputs": [],
   "source": [
    "!gcc hello.c"
   ]
  },
  {
   "cell_type": "markdown",
   "id": "39",
   "metadata": {},
   "source": [
    "This command creates a new file called ``a.out`` which is the **executable** of your code. You can check that it is indeed here by typing:"
   ]
  },
  {
   "cell_type": "code",
   "execution_count": null,
   "id": "40",
   "metadata": {},
   "outputs": [],
   "source": [
    "!ls"
   ]
  },
  {
   "cell_type": "markdown",
   "id": "41",
   "metadata": {},
   "source": [
    "You can now run this executable by typing:"
   ]
  },
  {
   "cell_type": "code",
   "execution_count": null,
   "id": "42",
   "metadata": {},
   "outputs": [],
   "source": [
    "!./a.out"
   ]
  },
  {
   "cell_type": "markdown",
   "id": "43",
   "metadata": {},
   "source": [
    "Congratulations! You succeeded in running your first compiled code!\n",
    "\n",
    "In the previous cell, the symbol ``!`` is used to execute from the jupyter notebook a Linux command. In the Terminal window, you can try and execute ``$ ./a.out`` where ``$`` is the prompt (don't type the ``$`` symbol, it should be already there!). The dot-slash ``./`` means execute the code that sits here, in this directory.\n",
    "\n",
    "Note that if you type only ``$ a.out`` it won't work."
   ]
  },
  {
   "cell_type": "code",
   "execution_count": null,
   "id": "44",
   "metadata": {},
   "outputs": [],
   "source": [
    "!a.out"
   ]
  },
  {
   "cell_type": "markdown",
   "id": "45",
   "metadata": {},
   "source": [
    "Indeed, the operating system wasn't able to find the executable anywhere in the system. \n",
    "\n",
    "For that, you need to define the ``PATH`` variable that contains the path to your executables. \n",
    "\n",
    "Try now to type in the Terminal window:"
   ]
  },
  {
   "cell_type": "markdown",
   "id": "46",
   "metadata": {},
   "source": [
    "``export PATH=~/se-for-sci/content/week09:$PATH``\n",
    "\n",
    "``echo $PATH``"
   ]
  },
  {
   "cell_type": "markdown",
   "id": "47",
   "metadata": {},
   "source": [
    "You should see a long list of directories conrtaining all the executables accessible to you, including:\n",
    "\n",
    "``<yourhomedir>/se-for-sci/content/week09``"
   ]
  },
  {
   "cell_type": "markdown",
   "id": "48",
   "metadata": {},
   "source": [
    "You can now type ``a.out`` in the Terminal window and it will work like a charm.\n",
    "\n",
    "Note that this jupyter notebook inherits the ``PATH`` the system had when you launched it the first time with the command ``jupyter notebook``. You won't be able to change the path anymore. This is why you need to use the Terminal window for this little exercise we just did."
   ]
  },
  {
   "cell_type": "markdown",
   "id": "49",
   "metadata": {},
   "source": [
    "As you have probably guessed, ``a.out`` is the default name for executables. If you want to give it a proper name, use the ``-o`` option."
   ]
  },
  {
   "cell_type": "code",
   "execution_count": null,
   "id": "50",
   "metadata": {},
   "outputs": [],
   "source": [
    "!gcc hello.c -o hello"
   ]
  },
  {
   "cell_type": "code",
   "execution_count": null,
   "id": "51",
   "metadata": {},
   "outputs": [],
   "source": [
    "!ls"
   ]
  },
  {
   "cell_type": "markdown",
   "id": "52",
   "metadata": {},
   "source": [
    "We have now a new file called ``hello`` which is our new executable."
   ]
  },
  {
   "cell_type": "code",
   "execution_count": null,
   "id": "53",
   "metadata": {},
   "outputs": [],
   "source": [
    "!./hello"
   ]
  },
  {
   "cell_type": "markdown",
   "id": "54",
   "metadata": {},
   "source": [
    "Let's now move to a more complicated task. We would like to reproduce the exercise we did using python and ``numba`` but this time directly ourselves using C. \n",
    "\n",
    "Here is the C code that implements the power function we used before.\n",
    "\n",
    "To make a proper comparison with our previous attempts, please uncomment the line in the following cell."
   ]
  },
  {
   "cell_type": "code",
   "execution_count": null,
   "id": "55",
   "metadata": {},
   "outputs": [],
   "source": [
    "%%writefile power.c\n",
    "#include <stdio.h>\n",
    "#include <stdlib.h>\n",
    "#include <math.h>\n",
    "\n",
    "int main()\n",
    "{\n",
    "    int i,n=1000000;\n",
    "//    int i,n=100000000;\n",
    "    float x,y;\n",
    "    \n",
    "    printf(\"%i\\n\",n);\n",
    "    for (i=0;i<n;i++){\n",
    "        x=rand();\n",
    "        y=x+pow(x,2)+pow(x,3)+pow(x,4)+pow(x,5)+pow(x,6)+pow(x,7)+pow(x,8);\n",
    "    }\n",
    "    return 0;\n",
    "}"
   ]
  },
  {
   "cell_type": "markdown",
   "id": "56",
   "metadata": {},
   "source": [
    "We will not dwelled on the new C syntax introduced here: declaring integer and floating point variables, a for loop and the external functions ``rand()`` and ``pow()``.\n",
    "\n",
    "The key points are that we now need to add more ``include`` statements to allow the use of these external functions. The new library element ``strlib.h`` is already contained in the standard GNU C libraries. The library element ``math.h`` is not. We need to tell the compiler to look into an external library to find the ``pow()`` function. \n",
    "\n",
    "This is done with the compiler using the ``-l`` option that tells the compiler to **link** your code with an external library of already compiled functions. In our case, the name of the **math** library is simply ``m``, so we have to type the command:"
   ]
  },
  {
   "cell_type": "code",
   "execution_count": null,
   "id": "57",
   "metadata": {},
   "outputs": [],
   "source": [
    "!gcc power.c -o power -lm"
   ]
  },
  {
   "cell_type": "markdown",
   "id": "58",
   "metadata": {},
   "source": [
    "Note that the outcome of this compilation might depend on your system. Some GNU C compiler versions need the ``-lm`` linking option, some others don't. \n",
    "\n",
    "To see what version of the compiler you use, just type:"
   ]
  },
  {
   "cell_type": "code",
   "execution_count": null,
   "id": "59",
   "metadata": {},
   "outputs": [],
   "source": [
    "!gcc --version"
   ]
  },
  {
   "cell_type": "markdown",
   "id": "60",
   "metadata": {},
   "source": [
    "Let's now try to execute our new code using the Linux command ``time``:"
   ]
  },
  {
   "cell_type": "code",
   "execution_count": null,
   "id": "61",
   "metadata": {},
   "outputs": [],
   "source": [
    "!time ./power"
   ]
  },
  {
   "cell_type": "markdown",
   "id": "62",
   "metadata": {},
   "source": [
    "This is very disappointing! The reason for this poor performance is the function ``pow()`` that works for any floating point powers, not just integer powers like we need here. Let's use the same trick we use above for our python code and re-write our C code as follows:"
   ]
  },
  {
   "cell_type": "code",
   "execution_count": null,
   "id": "63",
   "metadata": {},
   "outputs": [],
   "source": [
    "%%writefile mult.c\n",
    "#include <stdio.h>\n",
    "#include <stdlib.h>\n",
    "\n",
    "int main()\n",
    "{\n",
    "    int i,n=1000000;\n",
    "//    int i,n=100000000;\n",
    "    float x,y;\n",
    "    \n",
    "    printf(\"%i\\n\",n);\n",
    "    for (i=0;i<n;i++){\n",
    "        x=rand();\n",
    "        y=x*(1+x*(1+x*(1+x*(1+x*(1+x*(1+x*(1+x)))))));\n",
    "    }\n",
    "    return 0;\n",
    "}\n"
   ]
  },
  {
   "cell_type": "markdown",
   "id": "64",
   "metadata": {},
   "source": [
    "Note that we don't use the ``math`` library anymore. We can compile now using:"
   ]
  },
  {
   "cell_type": "code",
   "execution_count": null,
   "id": "65",
   "metadata": {},
   "outputs": [],
   "source": [
    "!gcc mult.c -o mult"
   ]
  },
  {
   "cell_type": "code",
   "execution_count": null,
   "id": "66",
   "metadata": {},
   "outputs": [],
   "source": [
    "!time ./mult"
   ]
  },
  {
   "cell_type": "markdown",
   "id": "67",
   "metadata": {},
   "source": [
    "Much better! We can also compile the code using the optimization option ``-O`` (capital O) that allows to explore various degree of optimization, from ``-O0`` which corresponds to basically zero optimization to ``-O3`` which allows the compiler to re-write aggressively parts of your code to make it faster.\n",
    "\n",
    "Let's try to optimize our executable using:"
   ]
  },
  {
   "cell_type": "code",
   "execution_count": null,
   "id": "68",
   "metadata": {},
   "outputs": [],
   "source": [
    "!gcc -O3 mult.c -o mult"
   ]
  },
  {
   "cell_type": "code",
   "execution_count": null,
   "id": "69",
   "metadata": {},
   "outputs": [],
   "source": [
    "!time ./mult"
   ]
  },
  {
   "cell_type": "markdown",
   "id": "70",
   "metadata": {},
   "source": [
    "Indeed, much better! We have now reached the same level of performance than ``numba``, but we did it ourselves."
   ]
  },
  {
   "cell_type": "markdown",
   "id": "71",
   "metadata": {},
   "source": [
    "## Compiling a Fortran code"
   ]
  },
  {
   "cell_type": "markdown",
   "id": "72",
   "metadata": {},
   "source": [
    "Let's continue our exploration of compilers and use now a very popular language in scientific computing, namely **Fortran**.\n",
    "\n",
    "We start with the ``Hello world`` code. The syntax is widely different than C."
   ]
  },
  {
   "cell_type": "code",
   "execution_count": null,
   "id": "73",
   "metadata": {},
   "outputs": [],
   "source": [
    "%%writefile hello.f90\n",
    "program hello\n",
    "\n",
    "write(*,*)\"Hello world!\"\n",
    "\n",
    "end program hello"
   ]
  },
  {
   "cell_type": "markdown",
   "id": "74",
   "metadata": {},
   "source": [
    "The most widely distributed Fortran compiler in Linux machines is here also the GNU Fortran compiler, part of the GNU Compiler Collection (gcc). You can find more details [here](https://gcc.gnu.org/fortran/).\n",
    "\n",
    "The compilation options are very similar than for the C compiler."
   ]
  },
  {
   "cell_type": "code",
   "execution_count": null,
   "id": "75",
   "metadata": {},
   "outputs": [],
   "source": [
    "!gfortran hello.f90 -o hello"
   ]
  },
  {
   "cell_type": "code",
   "execution_count": null,
   "id": "76",
   "metadata": {},
   "outputs": [],
   "source": [
    "!./hello"
   ]
  },
  {
   "cell_type": "markdown",
   "id": "77",
   "metadata": {},
   "source": [
    "Let's now explore the capabilities of the Fortran compiler for our computational example. We have the following code in Fortran:"
   ]
  },
  {
   "cell_type": "code",
   "execution_count": null,
   "id": "78",
   "metadata": {},
   "outputs": [],
   "source": [
    "%%writefile power.f90\n",
    "program power\n",
    "\n",
    "    real(kind=8)::x, y\n",
    "    integer::i,n=1000000\n",
    "!    integer::i,n=100000000\n",
    "\n",
    "    write(*,*)n\n",
    "    do i=1,n\n",
    "        x=rand()\n",
    "        y=x*(1+x*(1+x*(1+x*(1+x*(1+x*(1+x*(1+x)))))))\n",
    "    enddo\n",
    "    \n",
    "end program power"
   ]
  },
  {
   "cell_type": "markdown",
   "id": "79",
   "metadata": {},
   "source": [
    "Let's compile this code with aggressive optimization turned on. "
   ]
  },
  {
   "cell_type": "code",
   "execution_count": null,
   "id": "80",
   "metadata": {},
   "outputs": [],
   "source": [
    "!gfortran -O3 power.f90 -o power"
   ]
  },
  {
   "cell_type": "code",
   "execution_count": null,
   "id": "81",
   "metadata": {},
   "outputs": [],
   "source": [
    "!time ./power"
   ]
  },
  {
   "cell_type": "markdown",
   "id": "82",
   "metadata": {},
   "source": [
    "The performance is slightly but not significantly better than the C code. This means that choosing between C and Fortran depends more on your personal history and taste, as well as on minor syntax preferences. There are many fundamental differences between C and Fortran: arrays stored contiguously in memory using row-major (Fortran) versus column-major (C) ordering, loop index starting with 0 (C) or 1 (Fortran), etc. But overall, Fortran and C++ have the same language capabilities, especially in terms of object-oriented programming."
   ]
  },
  {
   "cell_type": "markdown",
   "id": "83",
   "metadata": {},
   "source": [
    "## Compiling a C++ code\n"
   ]
  },
  {
   "cell_type": "markdown",
   "id": "84",
   "metadata": {},
   "source": [
    "Finally, let's quickly explore the C++ compiler. We will first look at the ``Hello world`` code and then at the power calculations. We will use here again the GCC C++ compiler. Note that the file must end with the ``.cpp`` suffix to be considered as a C++ code. "
   ]
  },
  {
   "cell_type": "code",
   "execution_count": null,
   "id": "85",
   "metadata": {},
   "outputs": [],
   "source": [
    "%%writefile hello.cpp\n",
    "#include <iostream>\n",
    "\n",
    "int main() {\n",
    "// This is a comment\n",
    "    std::cout << \"Hello World!\";\n",
    "    return 0;\n",
    "}"
   ]
  },
  {
   "cell_type": "code",
   "execution_count": null,
   "id": "86",
   "metadata": {},
   "outputs": [],
   "source": [
    "!gcc hello.cpp -o hello -lstdc++"
   ]
  },
  {
   "cell_type": "code",
   "execution_count": null,
   "id": "87",
   "metadata": {},
   "outputs": [],
   "source": [
    "!./hello"
   ]
  },
  {
   "cell_type": "markdown",
   "id": "88",
   "metadata": {},
   "source": [
    "The syntax is again quite different. The I/O library has a different name. \n",
    "\n",
    "The code for the computational example now looks like:"
   ]
  },
  {
   "cell_type": "code",
   "execution_count": null,
   "id": "89",
   "metadata": {},
   "outputs": [],
   "source": [
    "%%writefile mult.cpp\n",
    "#include <iostream>\n",
    "\n",
    "int main()\n",
    "{\n",
    "    int i,n=1000000;\n",
    "//    int i,n=100000000;\n",
    "    float x,y;\n",
    "    \n",
    "    std::cout << n;\n",
    "    for (i=0;i<n;i++){\n",
    "        x=rand();\n",
    "        y=x*(1+x*(1+x*(1+x*(1+x*(1+x*(1+x*(1+x)))))));\n",
    "    }\n",
    "    return 0;\n",
    "}\n"
   ]
  },
  {
   "cell_type": "markdown",
   "id": "90",
   "metadata": {},
   "source": [
    "In order for this code to compile properly, we have to link it with the standard C++ library."
   ]
  },
  {
   "cell_type": "code",
   "execution_count": null,
   "id": "91",
   "metadata": {},
   "outputs": [],
   "source": [
    "!gcc -O3 mult.cpp -o mult -lstdc++"
   ]
  },
  {
   "cell_type": "code",
   "execution_count": null,
   "id": "92",
   "metadata": {},
   "outputs": [],
   "source": [
    "!time ./mult"
   ]
  },
  {
   "cell_type": "markdown",
   "id": "93",
   "metadata": {},
   "source": [
    "We get the same performance than C and Fortran."
   ]
  },
  {
   "cell_type": "markdown",
   "id": "94",
   "metadata": {},
   "source": [
    "## Building a code with more than one file"
   ]
  },
  {
   "cell_type": "markdown",
   "id": "95",
   "metadata": {},
   "source": [
    "It is not recommended to develop a complex software using only one giant file with millions of lines. Good practice in software engineering favors using multiple files, one per class of objects or functions.\n",
    "\n",
    "Compiling software with multiple files is slightly more complex than what we did so far."
   ]
  },
  {
   "cell_type": "markdown",
   "id": "96",
   "metadata": {},
   "source": [
    "Let's decompose our ``Hello world`` code into a main routine and a subroutine, each of which are coded in a separate file. "
   ]
  },
  {
   "cell_type": "code",
   "execution_count": null,
   "id": "97",
   "metadata": {},
   "outputs": [],
   "source": [
    "%%writefile hello.f90\n",
    "program main\n",
    "    \n",
    "    integer :: i=1\n",
    "\n",
    "    call greetings(i)\n",
    "\n",
    "end program main"
   ]
  },
  {
   "cell_type": "code",
   "execution_count": null,
   "id": "98",
   "metadata": {},
   "outputs": [],
   "source": [
    "%%writefile greet.f90\n",
    "subroutine greetings(i)\n",
    "\n",
    "    integer, intent(in) :: i\n",
    "\n",
    "    write(*,*)\"Hello world!\",i\n",
    "\n",
    "end subroutine greetings"
   ]
  },
  {
   "cell_type": "markdown",
   "id": "99",
   "metadata": {},
   "source": [
    "We will first compile each individual file using the ``-c`` option of the compiler. This tells the compiler to turn the file and all the functions it contains into an **object**. "
   ]
  },
  {
   "cell_type": "code",
   "execution_count": null,
   "id": "100",
   "metadata": {},
   "outputs": [],
   "source": [
    "!gfortran -c hello.f90"
   ]
  },
  {
   "cell_type": "code",
   "execution_count": null,
   "id": "101",
   "metadata": {},
   "outputs": [],
   "source": [
    "!gfortran -c greet.f90"
   ]
  },
  {
   "cell_type": "markdown",
   "id": "102",
   "metadata": {},
   "source": [
    "We see now using the ``ls`` command in the cell below that we have 2 new files ``greet.o`` and ``hello.o``. These object files contains independent functions that are not meant to work together just yet."
   ]
  },
  {
   "cell_type": "code",
   "execution_count": null,
   "id": "103",
   "metadata": {},
   "outputs": [],
   "source": [
    "!ls"
   ]
  },
  {
   "cell_type": "markdown",
   "id": "104",
   "metadata": {},
   "source": [
    "We now need to **link** these functions together to get the final executable. The compiler will perform this linking operation using all the required ``.o`` files as arguments. The final executable will be the result of this linking operation and will be given the name ``hello`` using the ``-o`` option."
   ]
  },
  {
   "cell_type": "code",
   "execution_count": null,
   "id": "105",
   "metadata": {},
   "outputs": [],
   "source": [
    "!gfortran hello.o greet.o -o hello"
   ]
  },
  {
   "cell_type": "code",
   "execution_count": null,
   "id": "106",
   "metadata": {},
   "outputs": [],
   "source": [
    "!./hello"
   ]
  },
  {
   "cell_type": "markdown",
   "id": "107",
   "metadata": {},
   "source": [
    "## Preprocessor directives"
   ]
  },
  {
   "cell_type": "markdown",
   "id": "108",
   "metadata": {},
   "source": [
    "A very popular and convenient way of programming is to use **preprocessor directives**. Preprocessor directives have their own syntax and can be seen as yet another programming language. As the name indicates, before the compiler actually compiles your code, if the ``-cpp`` option has been used, it will first call the *preprocessor*. The preprocessor will go through your code and look for *directives* starting with ``#`` on the first character of each line only. Be careful with this strict rule. \n",
    "\n",
    "The goal of the preprocessor is to really edit your file before sending it to the compiler. Only the part of the code that are within the blocks that have not been edited by the preprocessor will be compiled. This is useful to get efficient code because you don't need to perform the tests at **run time** but only at **compilation time**.\n",
    "\n",
    "The example below is quite self-explanatory. More details on preprocessor directives can be found [here](https://en.wikipedia.org/wiki/C_preprocessor).  "
   ]
  },
  {
   "cell_type": "code",
   "execution_count": null,
   "id": "109",
   "metadata": {},
   "outputs": [],
   "source": [
    "%%writefile greet.f90\n",
    "subroutine greetings(i)\n",
    "\n",
    "    integer, intent(in) :: i\n",
    "#ifdef FRENCH\n",
    "    write(*,*)\"Bonjour tout le monde !\",i\n",
    "#else\n",
    "    write(*,*)\"Hello world!\",i\n",
    "#endif\n",
    "    \n",
    "end subroutine greetings"
   ]
  },
  {
   "cell_type": "code",
   "execution_count": null,
   "id": "110",
   "metadata": {},
   "outputs": [],
   "source": [
    "!gfortran -cpp -DFRENCH -c greet.f90"
   ]
  },
  {
   "cell_type": "code",
   "execution_count": null,
   "id": "111",
   "metadata": {},
   "outputs": [],
   "source": [
    "!gfortran hello.o greet.o -o hello"
   ]
  },
  {
   "cell_type": "code",
   "execution_count": null,
   "id": "112",
   "metadata": {},
   "outputs": [],
   "source": [
    "!./hello"
   ]
  },
  {
   "cell_type": "markdown",
   "id": "113",
   "metadata": {},
   "source": [
    "## Libraries"
   ]
  },
  {
   "cell_type": "markdown",
   "id": "114",
   "metadata": {},
   "source": [
    "We have already used several libraries provided by the system, such as the standard C and C++ libraries or the C ``math`` library. We can also create our own libraries with all our functions. For this, we have to use specific command line instructions. The sequence of commands below will create a library archive or ``.a`` file."
   ]
  },
  {
   "cell_type": "code",
   "execution_count": null,
   "id": "115",
   "metadata": {},
   "outputs": [],
   "source": [
    "!ar r libgreet.a greet.o"
   ]
  },
  {
   "cell_type": "code",
   "execution_count": null,
   "id": "116",
   "metadata": {},
   "outputs": [],
   "source": [
    "!ranlib libgreet.a"
   ]
  },
  {
   "cell_type": "code",
   "execution_count": null,
   "id": "117",
   "metadata": {},
   "outputs": [],
   "source": [
    "!ls"
   ]
  },
  {
   "cell_type": "markdown",
   "id": "118",
   "metadata": {},
   "source": [
    "This library contains a bunch of compiled objects that we can link with our codes later. To do so, just use the ``-L`` and ``-l`` options. \n",
    "\n",
    "The first option with a capital L tells the compiler in what directory it will find the library and the second option with a small l tells the compiler the name of the library, so that ``-lname`` tells the compiler to look for the file ``libname.a``. \n",
    "\n",
    "Let's check that it works."
   ]
  },
  {
   "cell_type": "code",
   "execution_count": null,
   "id": "119",
   "metadata": {},
   "outputs": [],
   "source": [
    "!gfortran hello.f90 -o hello -L. -lgreet"
   ]
  },
  {
   "cell_type": "code",
   "execution_count": null,
   "id": "120",
   "metadata": {},
   "outputs": [],
   "source": [
    "!./hello"
   ]
  },
  {
   "cell_type": "markdown",
   "id": "121",
   "metadata": {},
   "source": [
    "## Using ``PATH``, ``LIBRARY_PATH`` and ``LD_LIBRARY_PATH``"
   ]
  },
  {
   "cell_type": "markdown",
   "id": "122",
   "metadata": {},
   "source": [
    "We have seen now most of the basics of compiled languages. We have seen in particular how to add to the ``PATH`` environment variable one or more directories that contain our executables. \n",
    "\n",
    "There is a similar system wide environment variable to tell the system where are our different libraries. The corresponding environment variable is called ``LIBRARY_PATH``.\n",
    "\n",
    "In this jupyter notebook, we can see the values these environment variables had when the notebook was started. "
   ]
  },
  {
   "cell_type": "code",
   "execution_count": null,
   "id": "123",
   "metadata": {},
   "outputs": [],
   "source": [
    "!echo $PATH"
   ]
  },
  {
   "cell_type": "code",
   "execution_count": null,
   "id": "124",
   "metadata": {},
   "outputs": [],
   "source": [
    "!echo $LIBRARY_PATH"
   ]
  },
  {
   "cell_type": "markdown",
   "id": "125",
   "metadata": {},
   "source": [
    "We see for example that the ``LIBRARY_PATH`` has not been set. In a Terminal window, we can set this variable to our local directory so that we could now access the library ``libgreet.a`` from everywhere, without the need to specify ``-L.`` or ``-L~/se-for-sci/content/week09``. \n",
    "\n",
    "For this, just type in the Terminal:"
   ]
  },
  {
   "cell_type": "markdown",
   "id": "126",
   "metadata": {},
   "source": [
    "``export LIBRARY_PATH=~/se-for-sci/content/week09``\n",
    "\n",
    "``echo $LIBRARY_PATH``"
   ]
  },
  {
   "cell_type": "markdown",
   "id": "127",
   "metadata": {},
   "source": [
    "You can now try to compile the code **in the Terminal window** using:"
   ]
  },
  {
   "cell_type": "markdown",
   "id": "128",
   "metadata": {},
   "source": [
    "``gfortran hello.f90 -o hello -lgreet``"
   ]
  },
  {
   "cell_type": "markdown",
   "id": "129",
   "metadata": {},
   "source": [
    "We don't need the ``-L`` option anymore because the system knows where to find ``libgreet.a``."
   ]
  },
  {
   "cell_type": "markdown",
   "id": "130",
   "metadata": {},
   "source": [
    "In most cases, you will use this strategy to link objects from a library into your executable. Note that the resulting executable can be quite big, because it contains all the object ``.o`` files that the linker has extracted from the library. In this case, we say the executable used a **static** library.  \n",
    "\n",
    "Another strategy consists to load the library objects *dynamically* at run time. The system will load the content of the so-called *shared libraries*. The shared library can be built using the ``-fPIC`` and ``-shared`` option as:\n",
    "\n",
    "``gfortran -fPIC -cpp -DFRENCH -c greet.f90``\n",
    "\n",
    "``gfortran -shared -o libgreet2.so greet.o``\n",
    "\n",
    "Finally, the executable can be generated using:\n",
    "\n",
    "``gfortran hello.f90 -o hello -L. -lgreet2``\n",
    "\n",
    "Be careful, at run time, the shared loadable libraries must be accessible by the system. You can add your shared dynamic libraries in the environment variable ``LD_LIBRARY_PATH``:\n",
    "\n",
    "``export LD_LIBRARY_PATH=~/se-for-sci/content/week09``\n",
    "\n",
    "``echo $LD_LIBRARY_PATH``\n",
    "\n",
    "You can then execute ``./hello`` with the properly loaded libraries at run time.\n",
    "\n",
    "If the ``LD_LIBRARY_PATH`` variable is not set properly, you will get the error:\n",
    "\n",
    "``./hello: error while loading shared libraries: libgreet2.so: cannot open shared object file: No such file or directory``"
   ]
  },
  {
   "cell_type": "markdown",
   "id": "131",
   "metadata": {},
   "source": [
    "## Dealing with complex libraries and compiler versions using module"
   ]
  },
  {
   "cell_type": "markdown",
   "id": "132",
   "metadata": {},
   "source": [
    "In more complex cases, such as large scientific libraries, setting by hand the different ``PATH`` variables can become tedious and error prone. There is a nice tool on most modern Linux servers called ``module``. It allows you to load (or unload) dynamically the libraries installed on your system by setting up for you all these environment variables. \n",
    "\n",
    "Since ``module`` will change the environment variables, we cannot use the jupyter notebook. We have to work directly in the Terminal window. \n",
    "\n",
    "In the Terminal window, type:"
   ]
  },
  {
   "cell_type": "markdown",
   "id": "133",
   "metadata": {},
   "source": [
    "```\n",
    "$ module list\n",
    "```\n",
    "You should see:\n",
    "```sh\n",
    "Currently Loaded Modulefiles:\n",
    " 1) anaconda3/2021.11\n",
    "```\n",
    "Type now:\n",
    "```\n",
    "$ module avail\n",
    "```\n",
    "You should see a long list of available modules.\n",
    "If you type\n",
    "```\n",
    "$ module avail fftw\n",
    "```\n",
    "you will get all the modules available for the ``fftw`` fast Fourier transform library."
   ]
  },
  {
   "cell_type": "code",
   "execution_count": null,
   "id": "134",
   "metadata": {},
   "outputs": [],
   "source": [
    "!module avail fftw"
   ]
  },
  {
   "cell_type": "markdown",
   "id": "135",
   "metadata": {},
   "source": [
    "We will now load the library for the gcc compiler version 3.3.9. \n",
    "\n",
    "For this, type in the Terminal window:\n",
    "```\n",
    "$ module load fftw/gcc/3.3.9\n",
    "$ module list\n",
    "```\n",
    "You should see:\n",
    "```\n",
    "Currently Loaded Modulefiles:\n",
    " 1) anaconda3/2021.11   2) fftw/gcc/3.3.9\n",
    "```"
   ]
  },
  {
   "cell_type": "markdown",
   "id": "136",
   "metadata": {},
   "source": [
    "It is worth now inspecting the different environment variables:\n",
    "```\n",
    "$ echo $LIBRARY_PATH\n",
    "/usr/local/fftw/gcc/3.3.9/lib64\n",
    "$ echo $LD_LIBRARY_PATH\n",
    "/usr/local/fftw/gcc/3.3.9/lib64\n",
    "```\n",
    "We see that the Linux environment has been properly set to use the ``fftw`` library.\n",
    "\n",
    "Inspecting what is in this directory, we get:\n",
    "```\n",
    "$ ls /usr/local/fftw/gcc/3.3.9/lib6\n",
    "cmake                   libfftw3f_threads.so.3.6.9  libfftw3_omp.a          libfftw3q_threads.so\n",
    "libfftw3.a              libfftw3l.a                 libfftw3_omp.so         libfftw3q_threads.so.3\n",
    "libfftw3f.a             libfftw3l_omp.a             libfftw3_omp.so.3       libfftw3q_threads.so.3.6.9\n",
    "libfftw3f_omp.a         libfftw3l_omp.so            libfftw3_omp.so.3.6.9   libfftw3.so\n",
    "libfftw3f_omp.so        libfftw3l_omp.so.3          libfftw3q.a             libfftw3.so.3\n",
    "libfftw3f_omp.so.3      libfftw3l_omp.so.3.6.9      libfftw3q_omp.a         libfftw3.so.3.6.9\n",
    "libfftw3f_omp.so.3.6.9  libfftw3l.so                libfftw3q_omp.so        libfftw3_threads.a\n",
    "libfftw3f.so            libfftw3l.so.3              libfftw3q_omp.so.3      libfftw3_threads.so\n",
    "libfftw3f.so.3          libfftw3l.so.3.6.9          libfftw3q_omp.so.3.6.9  libfftw3_threads.so.3\n",
    "libfftw3f.so.3.6.9      libfftw3l_threads.a         libfftw3q.so            libfftw3_threads.so.3.6.9\n",
    "libfftw3f_threads.a     libfftw3l_threads.so        libfftw3q.so.3          pkgconfig\n",
    "libfftw3f_threads.so    libfftw3l_threads.so.3      libfftw3q.so.3.6.9\n",
    "libfftw3f_threads.so.3  libfftw3l_threads.so.3.6.9  libfftw3q_threads.a\n",
    "```\n",
    "These are quite a few useful libraries we could play with. Note the ``.a`` and ``.so`` file name suffix.\n",
    "\n",
    "To remove this library, just type:\n",
    "```\n",
    "$ module unload fftw/gcc/3.3.9\n",
    "```\n",
    "You can check yourself in the Terminal window that the environment variables are now back to their original values."
   ]
  },
  {
   "cell_type": "markdown",
   "id": "137",
   "metadata": {},
   "source": [
    "## Compiling more complex codes: Makefile and CMake"
   ]
  },
  {
   "cell_type": "markdown",
   "id": "138",
   "metadata": {},
   "source": [
    "Compiling codes can be quite complex when the code base contains thousands of files with many **dependencies**. A dependency is when a code depends on another library or object to function properly. \n",
    "\n",
    "When you work on your code, compiling these files can be very time consuming, especially if you ask the compiler to optimize your codes. The trick is to only compile the files that have changes since you last compiled them. Of course, you have to recompile the corresponding object, but also **all the objects that depend on it**. This is the reason why dependencies are so important.\n",
    "\n",
    "We have now modern tools that allow to compile complex codes dealing properly with dependencies. \n",
    "\n",
    "Historically, the first tool to deliver such a service was ``make``. We will describe it briefly in this course, as you will have to use ``Makefile`` unfortunately. The message here is that ``make`` is depreciated and should be replaced as much as possible with ``cmake``, the modern version of ``make``. "
   ]
  },
  {
   "cell_type": "markdown",
   "id": "139",
   "metadata": {},
   "source": [
    "### Compiling code using ``make`` and the ``Makefile``"
   ]
  },
  {
   "cell_type": "markdown",
   "id": "140",
   "metadata": {},
   "source": [
    "A Makefile is a file containing specific instructions to compile your code. In a sense, this is yet another programming language but designed only for code compilation. What is nice with ``make`` is the possibility to only recompile files that have changes since the last time it was compiled.\n",
    "\n",
    "The syntax is quite simple with one major annoying caveat. The general format is as follows:\n",
    "```make\n",
    "target : prerequisite\n",
    "        instructions\n",
    "```\n",
    "A target is usually an object or an executable. \n",
    "\n",
    "A prerequisite is an object or a file that the target depends on.\n",
    "\n",
    "The lines containing instructions **MUST** start with a TAB. Spaces are not allowed. This is the most annoying aspect of Makefile. There is however a workaround as shown below using the semi-colon ``;``."
   ]
  },
  {
   "cell_type": "code",
   "execution_count": null,
   "id": "141",
   "metadata": {},
   "outputs": [],
   "source": [
    "%%writefile Makefile\n",
    "hello : hello.o greet.o Makefile ; gfortran hello.o greet.o -o hello\n",
    "\n",
    "%.o : %.f90 ; gfortran -cpp -DFRENCH -c $<\n",
    "\n",
    "clean : ; rm *.o"
   ]
  },
  {
   "cell_type": "markdown",
   "id": "142",
   "metadata": {},
   "source": [
    "Make sure that the 2 files ``hello.f90`` and ``greet.f90`` are here."
   ]
  },
  {
   "cell_type": "code",
   "execution_count": null,
   "id": "143",
   "metadata": {},
   "outputs": [],
   "source": [
    "!ls *.f90"
   ]
  },
  {
   "cell_type": "markdown",
   "id": "144",
   "metadata": {},
   "source": [
    "To execute this Makefile, just type:\n",
    "```\n",
    "$ make\n",
    "```\n",
    "or \n",
    "```\n",
    "$ make hello\n",
    "```\n",
    "in the Terminal window.\n",
    "\n",
    "In the jupyter notebook, we can also compile the code using:"
   ]
  },
  {
   "cell_type": "code",
   "execution_count": null,
   "id": "145",
   "metadata": {},
   "outputs": [],
   "source": [
    "!make"
   ]
  },
  {
   "cell_type": "code",
   "execution_count": null,
   "id": "146",
   "metadata": {},
   "outputs": [],
   "source": [
    "!./hello"
   ]
  },
  {
   "cell_type": "markdown",
   "id": "147",
   "metadata": {},
   "source": [
    "Now let's modify only the file ``greet.f90``."
   ]
  },
  {
   "cell_type": "code",
   "execution_count": null,
   "id": "148",
   "metadata": {},
   "outputs": [],
   "source": [
    "!touch greet.f90"
   ]
  },
  {
   "cell_type": "code",
   "execution_count": null,
   "id": "149",
   "metadata": {},
   "outputs": [],
   "source": [
    "!make"
   ]
  },
  {
   "cell_type": "markdown",
   "id": "150",
   "metadata": {},
   "source": [
    "We see that only this file is recompiled. The new executable is also generated by linking the new object.\n",
    "\n",
    "We can remove all the objects using:"
   ]
  },
  {
   "cell_type": "code",
   "execution_count": null,
   "id": "151",
   "metadata": {},
   "outputs": [],
   "source": [
    "!make clean"
   ]
  },
  {
   "cell_type": "markdown",
   "id": "152",
   "metadata": {},
   "source": [
    "and recompile everything using:"
   ]
  },
  {
   "cell_type": "code",
   "execution_count": null,
   "id": "153",
   "metadata": {},
   "outputs": [],
   "source": [
    "!make"
   ]
  },
  {
   "cell_type": "markdown",
   "id": "154",
   "metadata": {},
   "source": [
    "We can see a more complex example of ``Makefile`` by cloning the ``ramses`` repository. You can either clone the repository using the following command:"
   ]
  },
  {
   "cell_type": "code",
   "execution_count": null,
   "id": "155",
   "metadata": {},
   "outputs": [],
   "source": [
    "!git clone https://rteyssie@bitbucket.org/rteyssie/ramses.git --quiet"
   ]
  },
  {
   "cell_type": "markdown",
   "id": "156",
   "metadata": {},
   "source": [
    "If your Terminal window does not have access to the Internet, connect directly to the corresponding BitBucket web page [here](https://rteyssie@bitbucket.org/rteyssie/ramses.git) using your browser."
   ]
  },
  {
   "cell_type": "markdown",
   "id": "157",
   "metadata": {},
   "source": [
    "Using the Terminal window, try and compile this code using the ``Makefile`` in the ``ramses/bin`` directory."
   ]
  },
  {
   "cell_type": "markdown",
   "id": "158",
   "metadata": {},
   "source": [
    "### Compiling code using ``cmake``"
   ]
  },
  {
   "cell_type": "markdown",
   "id": "159",
   "metadata": {},
   "source": [
    "Makefiles are a system specific build system - they just run commands for you when things need \"making\". `cmake` was designed to be cross-platform, and is a \"build system generator\" - it makes your Makefiles for you (or Ninja, or other build systems). It is based on a very high level syntax and can explore your system, looking automatically for libraries and configuring them properly for you. Although the `cmake` added value really shows for complex project (or on a different system, like Windows, or if you want to use an IDE, or if you want to pack up and distribute your code, or anything else.), we will start with a simple example. \n",
    "\n",
    "Let's assume you have your 2 original Fortran files ``hello.f90`` and ``greet.f90``. \n",
    "\n",
    "Let's create a new file with name ``CMakeLists.txt``. It. must have this name."
   ]
  },
  {
   "cell_type": "code",
   "execution_count": null,
   "id": "160",
   "metadata": {},
   "outputs": [],
   "source": [
    "%%writefile CMakeLists.txt\n",
    "cmake_minimum_required(VERSION 3.18...3.24)\n",
    "\n",
    "project(hello LANGUAGES Fortran)\n",
    "\n",
    "add_executable(hello hello.f90 greet.f90)\n",
    "\n",
    "target_compile_definitions(hello PRIVATE FRENCH)\n",
    "\n",
    "set_source_files_properties(greet.f90 PROPERTIES Fortran_PREPROCESS TRUE)"
   ]
  },
  {
   "cell_type": "markdown",
   "id": "161",
   "metadata": {},
   "source": [
    "In a Terminal window, type the following to create a directory named ``build`` and configure your project:\n",
    "\n",
    "```bash\n",
    "$ cmake -S . -B build\n",
    "```\n",
    "\n",
    "This will generate a Makefile (or Ninja, or Xcode, MSVC soluiton, or whatever build system you want). To build, type:\n",
    "\n",
    "```bash\n",
    "$ cmake --build build\n",
    "```\n",
    "\n",
    "The ``Makefile`` will run and your executable is ready! Just type in there:\n",
    "\n",
    "```\n",
    "$ ./build/hello\n",
    "```"
   ]
  },
  {
   "cell_type": "markdown",
   "id": "162",
   "metadata": {},
   "source": [
    "We will now walk you through a more complex ``cmake`` example available in the directory ``cmake_example``.\n",
    "\n",
    "Additional material can be found in this book:\n",
    "* https://cliutils.gitlab.io/modern-cmake/\n",
    "\n",
    "And this useful workshop:\n",
    "* https://hsf-training.github.io/hsf-training-cmake-webpage/01-intro/index.html\n"
   ]
  },
  {
   "cell_type": "code",
   "execution_count": null,
   "id": "163",
   "metadata": {},
   "outputs": [],
   "source": []
  }
 ],
 "metadata": {
  "execution": {
   "timeout": 120
  },
  "kernelspec": {
   "display_name": "Python 3 (ipykernel)",
   "language": "python",
   "name": "python3"
  },
  "language_info": {
   "codemirror_mode": {
    "name": "ipython",
    "version": 3
   },
   "file_extension": ".py",
   "mimetype": "text/x-python",
   "name": "python",
   "nbconvert_exporter": "python",
   "pygments_lexer": "ipython3",
   "version": "3.11.5"
  },
  "vscode": {
   "interpreter": {
    "hash": "8f9328efe3468e6c370cdfed98702d3986faf748314d5bcec59da615d65baa7a"
   }
  }
 },
 "nbformat": 4,
 "nbformat_minor": 5
}
