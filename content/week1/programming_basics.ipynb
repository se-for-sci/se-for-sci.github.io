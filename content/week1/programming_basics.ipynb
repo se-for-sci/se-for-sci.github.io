{
 "cells": [
  {
   "cell_type": "markdown",
   "metadata": {
    "slideshow": {
     "slide_type": "slide"
    }
   },
   "source": [
    "# Programming basics\n",
    "\n",
    "This is a quick overview of Programming and Python. Hopefully this is mostly review, or possibly an intro to Python syntax if you are coming from a different language.\n",
    "\n",
    "This also includes an intro to Jupyter, which we will be sometimes using in the course.\n",
    "\n",
    "## Objectives:\n",
    "\n",
    "* Learn the 5 components of the Python Syntax\n",
    "* Understand Python's object system\n",
    "* Learn to interact with the IPython prompt in the Jupyter notebook"
   ]
  },
  {
   "cell_type": "markdown",
   "metadata": {
    "slideshow": {
     "slide_type": "slide"
    }
   },
   "source": [
    "## Jupyter, IPython, Python, oh my!\n",
    "\n",
    "Just to keep the computational model straight, we are using:\n",
    "\n",
    "* Python 3.10, a interpreted programming language\n",
    "* A REPL, which **R**eads a line, **E**valuates it, then **P**rints it (in a **L**oop)\n",
    "    -  `print` not needed to see the last un-captured value in a cell\n",
    "* IPython, which is an enhancement to make Python more **I**nteractive\n",
    "    - You can't use these enhancements in a library, but they generally are only useful interactively anyway\n",
    "* Jupyter notebooks, which is a web based display of a Kernel, such as IPython (or many other language kernels).\n",
    "* Jupyter lab, which is a place were multiple notebooks and other screens are shown together."
   ]
  },
  {
   "cell_type": "markdown",
   "metadata": {
    "slideshow": {
     "slide_type": "subslide"
    }
   },
   "source": [
    "```\n",
    "Jupyter lab  -> Jupyter notebook ->      IPython       ->  Python\n",
    "-----------     ----------------   ------------------    ---------\n",
    "This is the     This is the file   Checks for special    Real work\n",
    "visible part    format             syntax, then sends\n",
    "                                   it on\n",
    "```"
   ]
  },
  {
   "cell_type": "markdown",
   "metadata": {
    "slideshow": {
     "slide_type": "slide"
    }
   },
   "source": [
    "## Basics of programming\n",
    "\n",
    "Computing can be broken down to two things:\n",
    "\n",
    "* Variables: These hold data\n",
    "* Functions: These are procedures (usually operating on variables)"
   ]
  },
  {
   "cell_type": "code",
   "execution_count": null,
   "metadata": {},
   "outputs": [],
   "source": [
    "# This is a variable\n",
    "variable = 3\n",
    "\n",
    "\n",
    "# This is a function\n",
    "def function(x):\n",
    "    return pow(x, 2)"
   ]
  },
  {
   "cell_type": "code",
   "execution_count": null,
   "metadata": {},
   "outputs": [],
   "source": [
    "function(variable)"
   ]
  },
  {
   "cell_type": "markdown",
   "metadata": {
    "slideshow": {
     "slide_type": "subslide"
    }
   },
   "source": [
    "Don't worry about the details of the Python syntax quite yet, just focus on the two concepts: *data* and *procedures*. And, yes, `x**2` is nicer than `pow(x,2)`."
   ]
  },
  {
   "cell_type": "markdown",
   "metadata": {
    "slideshow": {
     "slide_type": "subslide"
    }
   },
   "source": [
    "### Try it yourself\n",
    "\n",
    "The *great* thing about programming in an interpreted language like Python is that *you can try everything* yourself, in real time. Play around with the above variables and answer these questions:\n",
    "\n",
    "* Can you name a variable `def`? Why or why not?\n",
    "* Can you name a variable `pow`? Why or why not?\n",
    "* Why might you not want to make a variable named `pow`?\n",
    "* How can you get rid of your variable named `pow`? (Hint: Try `del` or restarting your kernel (top menu))."
   ]
  },
  {
   "cell_type": "markdown",
   "metadata": {
    "slideshow": {
     "slide_type": "subslide"
    }
   },
   "source": [
    "### Python's syntax\n",
    "* **Operators**: special symbols or words that have a specific meaning. You can usually control what they do in classes. Some general parts of the syntax, like whitespace, commas, colons, and brackets, are not called operators.\n",
    "* **Keywords**: special words that have language level meaning and cannot be used elsewhere or changed.\n",
    "* **Soft Keywords**: special words that sometimes have language level meaning (*new in 3.10*, currently only `match` and `case`)\n",
    "* **Builtins**: functions and objects that are pre-defined, but not special.\n",
    "* **Numbers**: several different number types available\n",
    "* **Strings**: add text to the program or help\n",
    "* **Comments**: start with a `#` and are ignored by Python\n",
    "\n",
    "> Note: Builtins can't be undefined due to the way the Python lookup system works."
   ]
  },
  {
   "cell_type": "code",
   "execution_count": null,
   "metadata": {
    "slideshow": {
     "slide_type": "subslide"
    }
   },
   "outputs": [],
   "source": [
    "# Does not take anything or return anything\n",
    "def funct():\n",
    "    \"This is the function documentation\"\n",
    "    print(\"Called f\", 1 * 1, \"time\")"
   ]
  },
  {
   "cell_type": "markdown",
   "metadata": {},
   "source": [
    "**Operators**, **Keywords**, **Builtins**, **Numbers**, **Strings**, **Comments**\n",
    "\n",
    "#### Answer this:\n",
    "\n",
    "* What color is each of these in your notebook?"
   ]
  },
  {
   "cell_type": "markdown",
   "metadata": {
    "slideshow": {
     "slide_type": "slide"
    }
   },
   "source": [
    "### Objects and Types/Classes\n",
    "\n",
    "We can go one step further from variables and functions: objects and classes.\n",
    "\n",
    "* Object: A related collection of data and functions for that data\n",
    "    * Members: Variables that hold the data for the object\n",
    "    * Methods: Functions that operate on the object data\n",
    "* Class: The \"type\" of an object; objects that have the same methods/members have the same class"
   ]
  },
  {
   "cell_type": "markdown",
   "metadata": {
    "slideshow": {
     "slide_type": "subslide"
    }
   },
   "source": [
    "Why are objects so important in Python? Because unlike many other languages, *everything* in Python is an object! This is **very powerful**.\n",
    "\n",
    "---\n",
    "\n",
    "Note: Syntax such as keywords are not objects. Builtins are objects."
   ]
  },
  {
   "cell_type": "code",
   "execution_count": null,
   "metadata": {
    "slideshow": {
     "slide_type": "subslide"
    }
   },
   "outputs": [],
   "source": [
    "number = 1.5\n",
    "string = \"hello world\"\n",
    "complex_number = 2 + 3j"
   ]
  },
  {
   "cell_type": "markdown",
   "metadata": {},
   "source": [
    "Try running some of the methods and look at the members of the objects defined above.\n",
    "\n",
    "IPython + Jupyter keyboard hints:\n",
    "\n",
    "* Use **Tab** to see completions, either when typing a word or after a `.`\n",
    "* Use **Shift-Tab** to see the help for a function after typing it\n",
    "* Use **Shift-Enter** to execute a cell"
   ]
  },
  {
   "cell_type": "markdown",
   "metadata": {
    "slideshow": {
     "slide_type": "subslide"
    }
   },
   "source": [
    "We can use `type` to see the class of an object:"
   ]
  },
  {
   "cell_type": "code",
   "execution_count": null,
   "metadata": {},
   "outputs": [],
   "source": [
    "type(number)"
   ]
  },
  {
   "cell_type": "markdown",
   "metadata": {
    "slideshow": {
     "slide_type": "slide"
    }
   },
   "source": [
    "### Names\n",
    "\n",
    "There are certain conventions for the names of objects and classes:\n",
    "\n",
    "| Case | Convention | Example |\n",
    "|---|---|---|\n",
    "| Objects and methods | start with lower case letter | `like_this` |\n",
    "| Classes | Start with upper case letter | `LikeThis` |\n",
    "| Globals | all uppercase | `LIKE_THIS` |\n",
    "| Hidden | start with underscore | `_like_this` |\n",
    "| In one class only| start with two underscores (rarely used) | `__like_this`  |\n",
    "| Special python names | start and end with two underscores (called \"dunder\" for double underscore) | `__like_this__` |\n",
    "\n",
    "Older parts of Python do not always follow conventions; notably most Python built-in types are all lowercase. And singletons `True`, `False`, `None`, and `Ellipsis` are objects but are capitalized."
   ]
  },
  {
   "cell_type": "markdown",
   "metadata": {
    "slideshow": {
     "slide_type": "slide"
    }
   },
   "source": [
    "## Built in Python Types\n",
    "\n",
    "The following are a mostly comprehensive list of built-in Python types"
   ]
  },
  {
   "cell_type": "markdown",
   "metadata": {
    "slideshow": {
     "slide_type": "subslide"
    }
   },
   "source": [
    "### Basic types"
   ]
  },
  {
   "cell_type": "code",
   "execution_count": null,
   "metadata": {},
   "outputs": [],
   "source": [
    "py_int = 101\n",
    "py_float = 3.7\n",
    "py_complex = 1j\n",
    "py_str = \"Unicode string: Python 3 is 😀\"\n",
    "py_bytes = b\"Binary string\"\n",
    "py_bool = True\n",
    "py_none = None"
   ]
  },
  {
   "cell_type": "markdown",
   "metadata": {
    "slideshow": {
     "slide_type": "subslide"
    }
   },
   "source": [
    "These types are all also constructible by calling the name of the type, such as `int(1)`. A few interesting notes:\n",
    "\n",
    "* Numbers can be constructed from strings too, like `int(\"1\")`\n",
    "* Strings can start with special characters, like `b`, `r`, or `f`. We'll see this again someday.\n",
    "* Strings use `\"` or `'`. Three quotes can be used to include new lines.\n",
    "* `None` is the only none type. How lonely."
   ]
  },
  {
   "cell_type": "markdown",
   "metadata": {
    "slideshow": {
     "slide_type": "subslide"
    }
   },
   "source": [
    "#### Try it yourself:\n",
    "\n",
    "* How large is the largest int value allowed?"
   ]
  },
  {
   "cell_type": "markdown",
   "metadata": {
    "slideshow": {
     "slide_type": "subslide"
    }
   },
   "source": [
    "### Compound types\n",
    "\n",
    "These are composed, but are also very important"
   ]
  },
  {
   "cell_type": "code",
   "execution_count": null,
   "metadata": {},
   "outputs": [],
   "source": [
    "py_tuple = (1, 2, 3)\n",
    "py_list = [1, 2, 3]\n",
    "\n",
    "py_dict = {\"Python 3\": \"😍\", \"Python 2\": \"😖\"}\n",
    "\n",
    "py_set = {\"no\", \"duplicates\", \"in\", \"here\"}"
   ]
  },
  {
   "cell_type": "markdown",
   "metadata": {
    "slideshow": {
     "slide_type": "subslide"
    }
   },
   "source": [
    "Accessing values is done with brackets:"
   ]
  },
  {
   "cell_type": "code",
   "execution_count": null,
   "metadata": {},
   "outputs": [],
   "source": [
    "print(py_tuple[0])\n",
    "print(py_dict[\"Python 3\"])"
   ]
  },
  {
   "cell_type": "markdown",
   "metadata": {
    "slideshow": {
     "slide_type": "subslide"
    }
   },
   "source": [
    "* Indexing starts from 0, [as it should](http://developeronline.blogspot.com/2008/04/why-array-index-should-start-from-0.html)\n",
    "* A tuple is just like a list, but can't be changed: immutable\n",
    "\n",
    "| Mutable | Immutable |\n",
    "| --------|-----------|\n",
    "| Can be changed | Can only be replaced |\n",
    "| Can't be a key or in a set | Can be a key or in a set |\n",
    "| `list`, `dict`, `set` | `tuple`, `str`, `int`, etc. |\n",
    "\n",
    "* A set does not have an order (so you can't use `[]` to get items from it)\n",
    "* Dictionaries were not ordered before Python 3.6 (even now you still only have direct access to keys)\n",
    "* The keys of a dictionary are conceptually a set (with an order).\n",
    "\n",
    "There are other types in the standard library, but we'll restrict ourselves to talking about these for now.\n",
    "\n",
    "> If you could put a mutable item in as a key or set item, you could then change it later and have two identical key items or set items!"
   ]
  },
  {
   "cell_type": "markdown",
   "metadata": {
    "slideshow": {
     "slide_type": "subslide"
    }
   },
   "source": [
    "#### Try it out: Mutation vs. replacement\n",
    "\n",
    "Can you guess what the final value of `a` is? What about `b`?"
   ]
  },
  {
   "cell_type": "code",
   "execution_count": null,
   "metadata": {},
   "outputs": [],
   "source": [
    "a = [1, 2, 3, 4]\n",
    "b = a\n",
    "b[2] = \"😡\"\n",
    "b = [3, 2, 1, 3]\n",
    "b[2] = None\n",
    "\n",
    "print(a, b)"
   ]
  },
  {
   "cell_type": "markdown",
   "metadata": {
    "slideshow": {
     "slide_type": "subslide"
    }
   },
   "source": [
    "Key points to understanding this example:\n",
    "\n",
    "* Normal assignment *replaces* the variable on the left\n",
    "* Python never copies, but with immutable values and the above statement, it might seem that way\n",
    "\n",
    "There are a limited number of expressions allowed on the left (but they can be chained):\n",
    "* An object (replaces): `a = `\n",
    "* An index into an object (mutate) `a[x] = `\n",
    "* An object attribute (mutate): `a.x = `\n",
    "\n",
    "Places were `=` is not allowed can use `:=` from Python 3.8+."
   ]
  },
  {
   "cell_type": "markdown",
   "metadata": {
    "slideshow": {
     "slide_type": "slide"
    }
   },
   "source": [
    "### Slicing\n",
    "\n",
    "One of the most important things in computation is indexing, and Python is really good at it. You've already seen integers being used to index lists (strings work the same way too), but let's peek at another way to index lists and tuples: slicing."
   ]
  },
  {
   "cell_type": "code",
   "execution_count": null,
   "metadata": {
    "slideshow": {
     "slide_type": "subslide"
    }
   },
   "outputs": [],
   "source": [
    "a = \"abcdefg\"\n",
    "print(a)\n",
    "print(a[0:7:1])  # start : stop (not included) : step\n",
    "print(a[0:7])  # step not needed\n",
    "print(a[1:])  # you can leave out values\n",
    "print(a[:-1])  # like indexing, - means from end\n",
    "print(a[::2])"
   ]
  },
  {
   "cell_type": "markdown",
   "metadata": {
    "slideshow": {
     "slide_type": "slide"
    }
   },
   "source": [
    "## Operators\n",
    "\n",
    "Python's operators are pretty standard. Here are the ones that tend to be a little odd:\n",
    "\n",
    "* `x**y`: Raise `x` to a power `y`\n",
    "* `x == y`: See if `x` is equal to `y`\n",
    "* `x is y`: See if `x` is the same object (in the same spot in memory) as `y`, can't be overridden\n",
    "* `~x`: Invert `x` (might be different than unary `-`)\n",
    "* `+x`: Python does have a unary `+` operator, too. Not sure why you'd want it.\n",
    "* `x += y`: Add y to x, in place only if mutable"
   ]
  },
  {
   "cell_type": "markdown",
   "metadata": {
    "slideshow": {
     "slide_type": "subslide"
    }
   },
   "source": [
    "* `x / y`: True mathematical division (Python 2 used to do integer division sometimes)\n",
    "* `x // y`: Truncating division `3 // 2 == 1`\n",
    "* `x @ y`: Matrix product of x and y (Python 3.5+, only in libraries)\n",
    "* `x and y`: Boolean operator, short-circuits and can't be overridden (`or` and `not` too)\n",
    "* `x & y`: Bitwise and - this one can be overridden, but has odd precedence\n",
    "* `x | y`: Bitwise or"
   ]
  },
  {
   "cell_type": "markdown",
   "metadata": {
    "slideshow": {
     "slide_type": "slide"
    }
   },
   "source": [
    "## Control\n",
    "\n",
    "We've already seen functions. What other control statements are out there for us to use?"
   ]
  },
  {
   "cell_type": "code",
   "execution_count": null,
   "metadata": {},
   "outputs": [],
   "source": [
    "x = True\n",
    "if x:\n",
    "    print(\"x was true\")\n",
    "else:\n",
    "    print(\"x was not true\")"
   ]
  },
  {
   "cell_type": "markdown",
   "metadata": {
    "slideshow": {
     "slide_type": "subslide"
    }
   },
   "source": [
    "The for each loop works on any *iterable*:"
   ]
  },
  {
   "cell_type": "code",
   "execution_count": null,
   "metadata": {},
   "outputs": [],
   "source": [
    "a = \"abcdefg\"\n",
    "for item in a:\n",
    "    print(item, sep=\", \")"
   ]
  },
  {
   "cell_type": "markdown",
   "metadata": {},
   "source": [
    "You can also use `for item in range(N)` to count over a range of values, or `while CONDITION:`. Python 3.10 adds a new \"pattern matching\" control structure `match` that takes `case` conditions.\n",
    "\n",
    "You can use `for` (and `if`) inside `[]`, `()`, or `{}` to build the data structures mentioned above inplace - this is called a \"comprehension\"."
   ]
  },
  {
   "cell_type": "code",
   "execution_count": null,
   "metadata": {},
   "outputs": [],
   "source": [
    "bad_way_to_make_a_set_of_tens = {x for x in range(100) if x % 10 == 0}\n",
    "bad_way_to_make_a_set_of_tens"
   ]
  },
  {
   "cell_type": "markdown",
   "metadata": {},
   "source": [
    "### Decorators\n",
    "\n",
    "This is likely the simplest syntactic sugar you’ll see in Python, but maybe one with some of the furthest reaching consequences. Let’s say you have a bit of code that looks like this:\n",
    "\n",
    "```python\n",
    "def f(): ...\n",
    "f = g(f)\n",
    "```\n",
    "\n",
    "So `g` is a function that takes a function and (hopefully) returns a function, probably a very similar one since you are giving it the same name as the old `f`. In Python 2.5, we gained the ability to write this instead:\n",
    "\n",
    "```python\n",
    "@g\n",
    "def f(): ...\n",
    "```\n",
    "\n",
    "That's it. That's all it does. The thing after the `@` \"decorates\" (or transforms) the function you are defining and the output is saved with the same name `f`."
   ]
  },
  {
   "cell_type": "markdown",
   "metadata": {},
   "source": [
    "The thing you return doesn't have to be a function, actually:"
   ]
  },
  {
   "cell_type": "code",
   "execution_count": null,
   "metadata": {},
   "outputs": [],
   "source": [
    "def bad_decorator(func):\n",
    "    print(f\"You don't need {func.__name__}!\")\n",
    "    return 2\n",
    "\n",
    "\n",
    "@bad_decorator\n",
    "def f(x):\n",
    "    return x**2"
   ]
  },
  {
   "cell_type": "markdown",
   "metadata": {},
   "source": [
    "What is `f` now?"
   ]
  },
  {
   "cell_type": "code",
   "execution_count": null,
   "metadata": {},
   "outputs": [],
   "source": [
    "f"
   ]
  },
  {
   "cell_type": "markdown",
   "metadata": {},
   "source": [
    "Don't do this! (Unless you don't want any friends.)\n"
   ]
  },
  {
   "cell_type": "markdown",
   "metadata": {},
   "source": [
    "It's best to think of this as a \"modifier\" (or \"decorator\") for functions (and classes). Don't worry to much about how it works, and especially how to write them. My favorite is a \"decorator factory\", which is simply a function that returns a function that takes a function that returns a function! But in practice, it just looks like a decorator that takes arguments.\n",
    "\n",
    "Let's look at an example: `functools.lru_cache`:"
   ]
  },
  {
   "cell_type": "code",
   "execution_count": null,
   "metadata": {},
   "outputs": [],
   "source": [
    "import functools\n",
    "import time\n",
    "\n",
    "\n",
    "@functools.lru_cache(maxsize=128)\n",
    "def slow(x: int) -> int:\n",
    "    time.sleep(2)\n",
    "    return x"
   ]
  },
  {
   "cell_type": "markdown",
   "metadata": {},
   "source": [
    "Now try using it:"
   ]
  },
  {
   "cell_type": "code",
   "execution_count": null,
   "metadata": {},
   "outputs": [],
   "source": [
    "slow(1)"
   ]
  },
  {
   "cell_type": "code",
   "execution_count": null,
   "metadata": {},
   "outputs": [],
   "source": [
    "slow(1)"
   ]
  },
  {
   "cell_type": "markdown",
   "metadata": {
    "slideshow": {
     "slide_type": "subslide"
    }
   },
   "source": [
    "### With\n",
    "\n",
    "There are other useful things in Python, but the `with` statement is too good to wait. With lets you take code like this:\n",
    "\n",
    "```python\n",
    "f = open(filename)\n",
    "txt = f.read()\n",
    "f.close() # Don't forget me!\n",
    "```\n",
    "\n",
    "and write instead:\n",
    "\n",
    "```python\n",
    "with open(filename) as f:\n",
    "    txt = f.read()\n",
    "# File automatically closed here!\n",
    "```\n",
    "\n",
    "`with` simply runs code at the start and at the end of a block. It also promises the code at the end runs, even if there's an error! (More about errors later)"
   ]
  },
  {
   "cell_type": "markdown",
   "metadata": {},
   "source": [
    "Other languages, like C++, do not have a with statement, but they have similar constructs. C++ uses RAII, or Resource Acquisition Is Initialization instead. Python can't use RAII because you are never guaranteed when or even if an object will be destroyed. And Python doesn't have a way to add a scope block wherever you want like C++. Ruby and JavaScript use executable blocks, but Python doesn't have multiline lambdas.\n",
    "\n",
    "But design wise, much of the same ideology applies."
   ]
  },
  {
   "cell_type": "markdown",
   "metadata": {},
   "source": [
    "There's a handy trick for writing new context managers: a decorator in `contextlib`! (contextlib has some really great stuff in it)"
   ]
  },
  {
   "cell_type": "code",
   "execution_count": null,
   "metadata": {},
   "outputs": [],
   "source": [
    "import time\n",
    "import contextlib\n",
    "\n",
    "\n",
    "@contextlib.contextmanager\n",
    "def timer():\n",
    "    old_time = time.monotonic()\n",
    "    try:\n",
    "        yield\n",
    "    finally:\n",
    "        new_time = time.monotonic()\n",
    "        print(f\"Time taken: {new_time - old_time} seconds\")"
   ]
  },
  {
   "cell_type": "code",
   "execution_count": null,
   "metadata": {},
   "outputs": [],
   "source": [
    "with timer():\n",
    "    time.sleep(1)"
   ]
  },
  {
   "cell_type": "markdown",
   "metadata": {},
   "source": [
    "As a special bonus for using this shortcut, `contextlib.contextmanager` context managers are also usable as decorators!"
   ]
  },
  {
   "cell_type": "code",
   "execution_count": null,
   "metadata": {},
   "outputs": [],
   "source": [
    "@timer()\n",
    "def slow_func():\n",
    "    time.sleep(1)"
   ]
  },
  {
   "cell_type": "code",
   "execution_count": null,
   "metadata": {},
   "outputs": [],
   "source": [
    "slow_func()"
   ]
  },
  {
   "cell_type": "markdown",
   "metadata": {
    "slideshow": {
     "slide_type": "slide"
    }
   },
   "source": [
    "## Design in programming\n",
    "\n",
    "You should:\n",
    "\n",
    "* Make small, understandable pieces *that can be run by themselves* (Easier to de**bug** and test)\n",
    "* Write similar code once (fewer places for **bugs**)\n",
    "* Reuse existing functions or libraries when possible (let someone else design and de**bug** what they are good at)\n",
    "\n",
    "Objects are very good for the second two points (and so-so for the first).\n",
    "\n",
    "Also notice the running theme above?"
   ]
  }
 ],
 "metadata": {
  "kernelspec": {
   "display_name": "Python 3.10.6 ('se-for-sci')",
   "language": "python",
   "name": "python3"
  },
  "language_info": {
   "codemirror_mode": {
    "name": "ipython",
    "version": 3
   },
   "file_extension": ".py",
   "mimetype": "text/x-python",
   "name": "python",
   "nbconvert_exporter": "python",
   "pygments_lexer": "ipython3",
   "version": "3.10.6"
  },
  "vscode": {
   "interpreter": {
    "hash": "fab306bd048ce07ce3e8793744d137fe27754b3f962feffbdf7026343e7a716a"
   }
  }
 },
 "nbformat": 4,
 "nbformat_minor": 4
}
