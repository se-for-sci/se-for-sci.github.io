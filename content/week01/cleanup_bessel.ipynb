{
 "cells": [
  {
   "cell_type": "markdown",
   "id": "0e8ee9fc-4e3e-4409-bdd2-cd5602ea1bd5",
   "metadata": {},
   "source": [
    "# Code cleanup example\n",
    "\n",
    "Original code, based on code from the free E-book _Computational Physics: Problem Solving with Python, 3rd edition_, by Landau, Páez, and Bordeianu. Modified primarily to use matplotlib instead of VPython."
   ]
  },
  {
   "cell_type": "code",
   "execution_count": null,
   "id": "829d17e7-9339-4970-a748-5f7c8634e870",
   "metadata": {},
   "outputs": [],
   "source": [
    "from numpy import *\n",
    "import matplotlib.pyplot as plt\n",
    "\n",
    "Xmax = 40.\n",
    "Xmin = 0.25\n",
    "step = 0.1                                 # Global class variables\n",
    "order = 10; start = 50       # Plot j_order\n",
    "graph1, ax1 = plt.subplots(figsize = (5, 5))\n",
    "ax1.set_title('Sperical Bessel, \\\n",
    "               L = 1 (red), 10')\n",
    "ax1.set_xlabel(\"x\"); ax1.set_ylabel('j(x)')\n",
    "ax1.set_xlim(left=Xmin , \\\n",
    "             right=Xmax)\n",
    "ax1.set_ylim(bottom=-0.2 , top=0.5)\n",
    "\n",
    "\n",
    "def down(x, n, m):                   # Method down, recurs downward\n",
    "    j = zeros( (start   +   2), float)\n",
    "    j[m   +   1] = j[m] = 1.                  # Start with anything\n",
    "    for k in range(m, 0,  -1):\n",
    "        j[k - 1] = ( (2.*k + 1.)/x)*j[k] - j[k + 1]\n",
    "    scale = (sin(x)/x)/j[0]          # Scale solution to known j[0]\n",
    "    return j[n] * scale\n",
    "\n",
    "\n",
    "for x in arange(Xmin, Xmax, step):\n",
    "    ax1.plot(x, down(x, order, start), \"r.\")\n",
    "\n",
    "for x in arange(Xmin, Xmax, step):\n",
    "    ax1.plot(x, down(x,1,start), \"g.\")\n",
    "\n",
    "plt.show()"
   ]
  },
  {
   "cell_type": "markdown",
   "id": "e129d203-d54e-44f1-9253-88a6a6452b54",
   "metadata": {},
   "source": [
    "Try to clean it up. Two possible solutions: one closer to the original (but fixing some bugs, like the plot title color being wrong!):"
   ]
  },
  {
   "cell_type": "code",
   "execution_count": null,
   "id": "7d25d3ca-9e09-45be-9465-b5113097b4cf",
   "metadata": {
    "jupyter": {
     "source_hidden": true
    },
    "tags": [
     "hide-cell"
    ]
   },
   "outputs": [],
   "source": [
    "import numpy as np\n",
    "import matplotlib.pyplot as plt\n",
    "\n",
    "x_max = 40.0\n",
    "x_min = 0.25\n",
    "step = 0.1\n",
    "start = 50  # Plot j_order\n",
    "\n",
    "\n",
    "def down(x, order, start):\n",
    "    \"\"\"\n",
    "    Method down, recurse downward.\n",
    "    \"\"\"\n",
    "    j = np.zeros((start + 2), dtype=float)\n",
    "\n",
    "    # Start with anything\n",
    "    j[start + 1] = j[start] = 1.0\n",
    "\n",
    "    for k in range(start, 0, -1):\n",
    "        j[k - 1] = ((2.0 * k + 1.0) / x) * j[k] - j[k + 1]\n",
    "\n",
    "    # Scale solution to known j[0]\n",
    "    scale = (np.sin(x) / x) / j[0]\n",
    "    return j[order] * scale\n",
    "\n",
    "\n",
    "fig, ax = plt.subplots(figsize=(5, 5))\n",
    "ax.set_title(\"Spherical Bessel, L = 1, 10 (red)\")\n",
    "ax.set_xlabel(\"x\")\n",
    "ax.set_ylabel(\"j(x)\")\n",
    "ax.set_xlim(Xmin, Xmax)\n",
    "ax.set_ylim(-0.2, 0.5)\n",
    "\n",
    "x = np.arange(Xmin, Xmax, step)\n",
    "\n",
    "# Warning! red/green are bad colors to use, default colors are better\n",
    "ax.plot(x, [down(x_i, 10, start) for x_i in x], \"r.\")\n",
    "ax.plot(x, np.vectorize(down)(x, 1, start), \"g.\")\n",
    "\n",
    "plt.show()"
   ]
  },
  {
   "cell_type": "markdown",
   "id": "79e87688-6cce-4ebe-ae47-839caa384d57",
   "metadata": {},
   "source": [
    "And one going a bit further and vectorizing the function properly, and fixing the color display:"
   ]
  },
  {
   "cell_type": "code",
   "execution_count": null,
   "id": "f3e1b5c4-47ed-4a63-80c4-34dc30fa0aee",
   "metadata": {
    "jupyter": {
     "source_hidden": true
    },
    "tags": [
     "hide-cell"
    ]
   },
   "outputs": [],
   "source": [
    "import numpy as np\n",
    "import matplotlib.pyplot as plt\n",
    "\n",
    "x_min = 0.25\n",
    "x_max = 40.0\n",
    "step = 0.1\n",
    "\n",
    "\n",
    "def down(x, order, start):\n",
    "    \"\"\"\n",
    "    Method down, recurse downward.\n",
    "    \"\"\"\n",
    "    j = np.zeros((start + 2, len(x)), dtype=float)\n",
    "\n",
    "    # Start with anything\n",
    "    j[start + 1] = j[start] = 1.0\n",
    "\n",
    "    for k in range(start, 0, -1):\n",
    "        j[k - 1] = ((2.0 * k + 1.0) / x) * j[k] - j[k + 1]\n",
    "\n",
    "    # Scale solution to known j[0]\n",
    "    scale = np.sin(x) / (x * j[0])\n",
    "    return j[order] * scale\n",
    "\n",
    "\n",
    "fig, ax = plt.subplots(figsize=(5, 5))\n",
    "ax.set_title(\"Spherical Bessel\")\n",
    "ax.set_xlabel(\"x\")\n",
    "ax.set_ylabel(\"j(x)\")\n",
    "ax.set_xlim(x_min, x_max)\n",
    "ax.set_ylim(-0.2, 0.5)\n",
    "\n",
    "x = np.arange(x_min, x_max, step)\n",
    "\n",
    "ax.plot(x, down(x, 10, 50), \"r.\", label=\"L=10\")\n",
    "ax.plot(x, down(x, 1, 50), \"g.\", label=\"L=1\")\n",
    "ax.legend()\n",
    "\n",
    "plt.show()"
   ]
  }
 ],
 "metadata": {
  "kernelspec": {
   "display_name": "Python [conda env:se-for-sci] *",
   "language": "python",
   "name": "conda-env-se-for-sci-py"
  },
  "language_info": {
   "codemirror_mode": {
    "name": "ipython",
    "version": 3
   },
   "file_extension": ".py",
   "mimetype": "text/x-python",
   "name": "python",
   "nbconvert_exporter": "python",
   "pygments_lexer": "ipython3",
   "version": "3.10.6"
  }
 },
 "nbformat": 4,
 "nbformat_minor": 5
}
